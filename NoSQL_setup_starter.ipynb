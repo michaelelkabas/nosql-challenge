{
 "cells": [
  {
   "cell_type": "markdown",
   "id": "9a57c4c6",
   "metadata": {},
   "source": [
    "# Eat Safe, Love"
   ]
  },
  {
   "cell_type": "markdown",
   "id": "064ef857",
   "metadata": {},
   "source": [
    "## Part 1: Database and Jupyter Notebook Set Up"
   ]
  },
  {
   "cell_type": "markdown",
   "id": "664e3c1f",
   "metadata": {},
   "source": [
    "Import the data provided in the `establishments.json` file from your Terminal. Name the database `uk_food` and the collection `establishments`.\n",
    "\n",
    "Within this markdown cell, copy the line of text you used to import the data from your Terminal. This way, future analysts will be able to repeat your process.\n",
    "\n",
    "e.g.: Import the dataset with \"file_path = 'Resources/establishments.json'\"  "
   ]
  },
  {
   "cell_type": "code",
   "execution_count": 1,
   "id": "3ecdd008",
   "metadata": {},
   "outputs": [],
   "source": [
    "# Import dependencies\n",
    "from pymongo import MongoClient\n",
    "from pprint import pprint\n",
    "import json"
   ]
  },
  {
   "cell_type": "code",
   "execution_count": 2,
   "id": "59390c4a",
   "metadata": {},
   "outputs": [],
   "source": [
    "# Create an instance of MongoClient\n",
    "mongo = MongoClient(port=27017)"
   ]
  },
  {
   "cell_type": "code",
   "execution_count": 3,
   "id": "932e57b5",
   "metadata": {},
   "outputs": [],
   "source": [
    "# confirm that our new database was created\n",
    "file_path = 'Resources/establishments.json'  \n",
    "with open(file_path) as f:\n",
    "    data = json.load(f)"
   ]
  },
  {
   "cell_type": "code",
   "execution_count": 4,
   "id": "732329fb",
   "metadata": {},
   "outputs": [],
   "source": [
    "# assign the uk_food database to a variable name\n",
    "db = mongo['uk_food']"
   ]
  },
  {
   "cell_type": "code",
   "execution_count": 5,
   "id": "d532f007",
   "metadata": {},
   "outputs": [
    {
     "name": "stdout",
     "output_type": "stream",
     "text": [
      "Data imported successfully.\n",
      "All databases: ['admin', 'classDB', 'config', 'local', 'travel_db', 'uk_food']\n",
      "Database 'uk_food' exists.\n"
     ]
    }
   ],
   "source": [
    "# review the collections in our new database\n",
    "\n",
    "# start by inserting data into the 'establishments' collection\n",
    "mongo['uk_food']['establishments'].insert_many(data)\n",
    "print(\"Data imported successfully.\")\n",
    "\n",
    "# review the collection by listing the databases\n",
    "databases = mongo.list_database_names()\n",
    "print(\"All databases:\", databases)\n",
    "\n",
    "# Confirm that uk_food is listed\n",
    "if 'uk_food' in databases:\n",
    "    print(\"Database 'uk_food' exists.\")\n",
    "else:\n",
    "    print(\"Database 'uk_food' does not exist.\")"
   ]
  },
  {
   "cell_type": "code",
   "execution_count": 6,
   "id": "ef1b89ed",
   "metadata": {},
   "outputs": [
    {
     "name": "stdout",
     "output_type": "stream",
     "text": [
      "Collections in 'uk_food' database: ['establishments']\n"
     ]
    }
   ],
   "source": [
    "# review the collections in our new database\n",
    "collections = db.list_collection_names()\n",
    "print(\"Collections in 'uk_food' database:\", collections)"
   ]
  },
  {
   "cell_type": "code",
   "execution_count": 7,
   "id": "6a0d92df",
   "metadata": {},
   "outputs": [
    {
     "name": "stdout",
     "output_type": "stream",
     "text": [
      "One document from the 'establishments' collection:\n",
      "{'_id': ObjectId('664e32ae1fe90211939f752f'), 'FHRSID': 254719, 'ChangesByServerID': 0, 'LocalAuthorityBusinessID': 'PI/000069980', 'BusinessName': 'Refreshment Kiosk', 'BusinessType': 'Restaurant/Cafe/Canteen', 'BusinessTypeID': 1, 'AddressLine1': 'The Bay', 'AddressLine2': 'St Margarets Bay', 'AddressLine3': 'Kent', 'AddressLine4': '', 'PostCode': 'CT15 6DY', 'Phone': '', 'RatingValue': '5', 'RatingKey': 'fhrs_5_en-gb', 'RatingDate': '2022-03-24T00:00:00', 'LocalAuthorityCode': '182', 'LocalAuthorityName': 'Dover', 'LocalAuthorityWebSite': 'http://www.dover.gov.uk/', 'LocalAuthorityEmailAddress': 'publicprotection@dover.gov.uk', 'scores': {'Hygiene': 0, 'Structural': 5, 'ConfidenceInManagement': 5}, 'SchemeType': 'FHRS', 'geocode': {'longitude': '1.387974', 'latitude': '51.152225'}, 'RightToReply': '', 'Distance': 4587.347174863443, 'NewRatingPending': False, 'meta': {'dataSource': None, 'extractDate': '0001-01-01T00:00:00', 'itemCount': 0, 'returncode': None, 'totalCount': 0, 'totalPages': 0, 'pageSize': 0, 'pageNumber': 0}, 'links': [{'rel': 'self', 'href': 'https://api.ratings.food.gov.uk/establishments/254719'}]}\n"
     ]
    }
   ],
   "source": [
    "# review a document in the establishments collection\n",
    "# Find and display one document in the establishments collection\n",
    "document = db['establishments'].find_one()\n",
    "\n",
    "print(\"One document from the 'establishments' collection:\")\n",
    "print(document)\n"
   ]
  },
  {
   "cell_type": "code",
   "execution_count": 8,
   "id": "11c9f11b",
   "metadata": {},
   "outputs": [],
   "source": [
    "# assign the collection to a variable\n",
    "establishments = db['establishments']"
   ]
  },
  {
   "cell_type": "markdown",
   "id": "d5671434",
   "metadata": {},
   "source": [
    "## Part 2: Update the Database"
   ]
  },
  {
   "cell_type": "markdown",
   "id": "314bd884",
   "metadata": {},
   "source": [
    "1. An exciting new halal restaurant just opened in Greenwich, but hasn't been rated yet. The magazine has asked you to include it in your analysis. Add the following restaurant \"Penang Flavours\" to the database."
   ]
  },
  {
   "cell_type": "code",
   "execution_count": 9,
   "id": "c2da7648",
   "metadata": {},
   "outputs": [],
   "source": [
    "# Create a dictionary for the new restaurant data\n",
    "# Define the new restaurant document\n",
    "new_restaurant = {\n",
    "    \"BusinessName\": \"Penang Flavours\",\n",
    "    \"BusinessType\": \"Restaurant/Cafe/Canteen\",\n",
    "    \"BusinessTypeID\": \"\",\n",
    "    \"AddressLine1\": \"Penang Flavours\",\n",
    "    \"AddressLine2\": \"146A Plumstead Rd\",\n",
    "    \"AddressLine3\": \"London\",\n",
    "    \"AddressLine4\": \"\",\n",
    "    \"PostCode\": \"SE18 7DY\",\n",
    "    \"Phone\": \"\",\n",
    "    \"LocalAuthorityCode\": \"511\",\n",
    "    \"LocalAuthorityName\": \"Greenwich\",\n",
    "    \"LocalAuthorityWebSite\": \"http://www.royalgreenwich.gov.uk\",\n",
    "    \"LocalAuthorityEmailAddress\": \"health@royalgreenwich.gov.uk\",\n",
    "    \"scores\": {\n",
    "        \"Hygiene\": \"\",\n",
    "        \"Structural\": \"\",\n",
    "        \"ConfidenceInManagement\": \"\"\n",
    "    },\n",
    "    \"SchemeType\": \"FHRS\",\n",
    "    \"geocode\": {\n",
    "        \"longitude\": \"0.08384000\",\n",
    "        \"latitude\": \"51.49014200\"\n",
    "    },\n",
    "    \"RightToReply\": \"\",\n",
    "    \"Distance\": 4623.9723280747176,\n",
    "    \"NewRatingPending\": True\n",
    "}"
   ]
  },
  {
   "cell_type": "code",
   "execution_count": 10,
   "id": "a6e5cece",
   "metadata": {},
   "outputs": [],
   "source": [
    "# Insert the new restaurant into the collection\n",
    "result = establishments.insert_one(new_restaurant)"
   ]
  },
  {
   "cell_type": "code",
   "execution_count": 11,
   "id": "63bb10f9",
   "metadata": {},
   "outputs": [
    {
     "name": "stdout",
     "output_type": "stream",
     "text": [
      "New restaurant inserted with ID: 664e32e11fe9021193a01092\n",
      "Inserted document:\n",
      "{'AddressLine1': 'Penang Flavours',\n",
      " 'AddressLine2': '146A Plumstead Rd',\n",
      " 'AddressLine3': 'London',\n",
      " 'AddressLine4': '',\n",
      " 'BusinessName': 'Penang Flavours',\n",
      " 'BusinessType': 'Restaurant/Cafe/Canteen',\n",
      " 'BusinessTypeID': '',\n",
      " 'Distance': 4623.972328074718,\n",
      " 'LocalAuthorityCode': '511',\n",
      " 'LocalAuthorityEmailAddress': 'health@royalgreenwich.gov.uk',\n",
      " 'LocalAuthorityName': 'Greenwich',\n",
      " 'LocalAuthorityWebSite': 'http://www.royalgreenwich.gov.uk',\n",
      " 'NewRatingPending': True,\n",
      " 'Phone': '',\n",
      " 'PostCode': 'SE18 7DY',\n",
      " 'RightToReply': '',\n",
      " 'SchemeType': 'FHRS',\n",
      " '_id': ObjectId('664e32e11fe9021193a01092'),\n",
      " 'geocode': {'latitude': '51.49014200', 'longitude': '0.08384000'},\n",
      " 'scores': {'ConfidenceInManagement': '', 'Hygiene': '', 'Structural': ''}}\n"
     ]
    }
   ],
   "source": [
    "# Check that the new restaurant was inserted\n",
    "print(\"New restaurant inserted with ID:\", result.inserted_id)\n",
    "\n",
    "# Optionally, retrieve and print the inserted document to verify\n",
    "inserted_document = establishments.find_one({\"_id\": result.inserted_id})\n",
    "print(\"Inserted document:\")\n",
    "pprint(inserted_document)"
   ]
  },
  {
   "cell_type": "markdown",
   "id": "0ef4395a",
   "metadata": {},
   "source": [
    "2. Find the BusinessTypeID for \"Restaurant/Cafe/Canteen\" and return only the `BusinessTypeID` and `BusinessType` fields."
   ]
  },
  {
   "cell_type": "code",
   "execution_count": 12,
   "id": "93c63829",
   "metadata": {},
   "outputs": [
    {
     "name": "stdout",
     "output_type": "stream",
     "text": [
      "BusinessTypeID and BusinessType for 'Restaurant/Cafe/Canteen':\n",
      "{'BusinessType': 'Restaurant/Cafe/Canteen', 'BusinessTypeID': 1}\n"
     ]
    }
   ],
   "source": [
    "# Find the BusinessTypeID for \"Restaurant/Cafe/Canteen\" and return only the BusinessTypeID and BusinessType fields\n",
    "# Connect to the 'establishments' collection\n",
    "collection = db.establishments\n",
    "\n",
    "# Query to find the BusinessTypeID for \"Restaurant/Cafe/Canteen\"\n",
    "result = collection.find_one(\n",
    "    { \"BusinessType\": \"Restaurant/Cafe/Canteen\" },\n",
    "    { \"_id\": 0, \"BusinessType\": 1, \"BusinessTypeID\": 1 }\n",
    ")\n",
    "\n",
    "# Print the result\n",
    "if result:\n",
    "    print(\"BusinessTypeID and BusinessType for 'Restaurant/Cafe/Canteen':\")\n",
    "    pprint(result)\n",
    "else:\n",
    "    print(\"No results found for BusinessType 'Restaurant/Cafe/Canteen'\")"
   ]
  },
  {
   "cell_type": "markdown",
   "id": "4e570caf",
   "metadata": {},
   "source": [
    "3. Update the new restaurant with the `BusinessTypeID` you found."
   ]
  },
  {
   "cell_type": "code",
   "execution_count": 13,
   "id": "7f599f3d",
   "metadata": {},
   "outputs": [
    {
     "name": "stdout",
     "output_type": "stream",
     "text": [
      "Latest ObjectID for 'Penang Flavours': 664e32e11fe9021193a01092\n"
     ]
    }
   ],
   "source": [
    "# Update the new restaurant with the correct BusinessTypeID\n",
    "# Find the most recently inserted document with BusinessName 'Penang Flavours'\n",
    "document = establishments.find_one({\"BusinessName\": \"Penang Flavours\"}, {\"_id\": 1}, sort=[(\"_id\", -1)])\n",
    "\n",
    "# Get the ObjectId and store it in a variable\n",
    "if document:\n",
    "    penang_flavours_id = document[\"_id\"]\n",
    "    print(f\"Latest ObjectID for 'Penang Flavours': {penang_flavours_id}\")\n",
    "else:\n",
    "    print(\"Document with BusinessName 'Penang Flavours' not found\")\n",
    "\n",
    "collection = db.establishments\n",
    "result = collection.update_one(\n",
    "    { \"_id\": penang_flavours_id },\n",
    "    { \"$set\": { \"BusinessTypeID\": \"1\" } }\n",
    ")"
   ]
  },
  {
   "cell_type": "code",
   "execution_count": 14,
   "id": "a6ad16f7",
   "metadata": {},
   "outputs": [
    {
     "name": "stdout",
     "output_type": "stream",
     "text": [
      "New restaurant details after update:\n",
      "_id: 664e32e11fe9021193a01092\n",
      "BusinessName: Penang Flavours\n",
      "BusinessType: Restaurant/Cafe/Canteen\n",
      "BusinessTypeID: 1\n",
      "AddressLine1: Penang Flavours\n",
      "AddressLine2: 146A Plumstead Rd\n",
      "AddressLine3: London\n",
      "AddressLine4: \n",
      "PostCode: SE18 7DY\n",
      "Phone: \n",
      "LocalAuthorityCode: 511\n",
      "LocalAuthorityName: Greenwich\n",
      "LocalAuthorityWebSite: http://www.royalgreenwich.gov.uk\n",
      "LocalAuthorityEmailAddress: health@royalgreenwich.gov.uk\n",
      "scores: {'Hygiene': '', 'Structural': '', 'ConfidenceInManagement': ''}\n",
      "SchemeType: FHRS\n",
      "geocode: {'longitude': '0.08384000', 'latitude': '51.49014200'}\n",
      "RightToReply: \n",
      "Distance: 4623.972328074718\n",
      "NewRatingPending: True\n"
     ]
    }
   ],
   "source": [
    "# Confirm that the new restaurant was updated\n",
    "\n",
    "# Find and display the updated document for the new restaurant\n",
    "updated_restaurant = establishments.find_one({\"BusinessName\": \"Penang Flavours\"})\n",
    "\n",
    "if updated_restaurant:\n",
    "    print(\"New restaurant details after update:\")\n",
    "    for key, value in updated_restaurant.items():\n",
    "        print(f\"{key}: {value}\")\n",
    "else:\n",
    "    print(\"New restaurant not found. Check if the update was successful.\")\n"
   ]
  },
  {
   "cell_type": "markdown",
   "id": "67281254",
   "metadata": {},
   "source": [
    "4. The magazine is not interested in any establishments in Dover, so check how many documents contain the Dover Local Authority. Then, remove any establishments within the Dover Local Authority from the database, and check the number of documents to ensure they were deleted."
   ]
  },
  {
   "cell_type": "code",
   "execution_count": 15,
   "id": "768474a6",
   "metadata": {},
   "outputs": [
    {
     "name": "stdout",
     "output_type": "stream",
     "text": [
      "Number of documents in Dover Local Authority: 994\n"
     ]
    }
   ],
   "source": [
    "# Find how many documents have LocalAuthorityName as \"Dover\"\n",
    "dover_documents_count = collection.count_documents({\"LocalAuthorityName\": \"Dover\"})\n",
    "print(f\"Number of documents in Dover Local Authority: {dover_documents_count}\")"
   ]
  },
  {
   "cell_type": "code",
   "execution_count": 16,
   "id": "a11d5f1b",
   "metadata": {},
   "outputs": [
    {
     "name": "stdout",
     "output_type": "stream",
     "text": [
      "Number of documents deleted: 994\n"
     ]
    }
   ],
   "source": [
    "# Delete all documents where LocalAuthorityName is \"Dover\"\n",
    "delete_result = collection.delete_many({\"LocalAuthorityName\": \"Dover\"})\n",
    "print(f\"Number of documents deleted: {delete_result.deleted_count}\")"
   ]
  },
  {
   "cell_type": "code",
   "execution_count": 17,
   "id": "2a51aba0",
   "metadata": {},
   "outputs": [
    {
     "name": "stdout",
     "output_type": "stream",
     "text": [
      "Number of documents in Dover Local Authority after deletion: 0\n"
     ]
    }
   ],
   "source": [
    "# Check if any remaining documents include Dover\n",
    "new_dover_documents_count = collection.count_documents({\"LocalAuthorityName\": \"Dover\"})\n",
    "print(f\"Number of documents in Dover Local Authority after deletion: {new_dover_documents_count}\")"
   ]
  },
  {
   "cell_type": "code",
   "execution_count": 18,
   "id": "8c356f7b",
   "metadata": {},
   "outputs": [
    {
     "name": "stdout",
     "output_type": "stream",
     "text": [
      "At least one document remains in the collection after deletion:\n",
      "_id: 664e32ae1fe90211939f7816\n",
      "FHRSID: 1043695\n",
      "ChangesByServerID: 0\n",
      "LocalAuthorityBusinessID: PI/000073616\n",
      "BusinessName: The Pavilion\n",
      "BusinessType: Restaurant/Cafe/Canteen\n",
      "BusinessTypeID: 1\n",
      "AddressLine1: East Cliff Pavilion\n",
      "AddressLine2: Wear Bay Road\n",
      "AddressLine3: Folkestone\n",
      "AddressLine4: Kent\n",
      "PostCode: CT19 6BL\n",
      "Phone: \n",
      "RatingValue: 5\n",
      "RatingKey: fhrs_5_en-gb\n",
      "RatingDate: 2018-04-04T00:00:00\n",
      "LocalAuthorityCode: 188\n",
      "LocalAuthorityName: Folkestone and Hythe\n",
      "LocalAuthorityWebSite: http://www.folkestone-hythe.gov.uk\n",
      "LocalAuthorityEmailAddress: foodteam@folkestone-hythe.gov.uk\n",
      "scores: {'Hygiene': 5, 'Structural': 5, 'ConfidenceInManagement': 5}\n",
      "SchemeType: FHRS\n",
      "geocode: {'longitude': '1.195625', 'latitude': '51.083812'}\n",
      "RightToReply: \n",
      "Distance: 4591.765489457773\n",
      "NewRatingPending: False\n",
      "meta: {'dataSource': None, 'extractDate': '0001-01-01T00:00:00', 'itemCount': 0, 'returncode': None, 'totalCount': 0, 'totalPages': 0, 'pageSize': 0, 'pageNumber': 0}\n",
      "links: [{'rel': 'self', 'href': 'https://api.ratings.food.gov.uk/establishments/1043695'}]\n"
     ]
    }
   ],
   "source": [
    "# Check that other documents remain with 'find_one'\n",
    "remaining_document = collection.find_one()\n",
    "\n",
    "if remaining_document:\n",
    "    print(\"At least one document remains in the collection after deletion:\")\n",
    "    for key, value in remaining_document.items():\n",
    "        print(f\"{key}: {value}\")\n",
    "else:\n",
    "    print(\"No documents remain in the collection after deletion.\")"
   ]
  },
  {
   "attachments": {},
   "cell_type": "markdown",
   "id": "e9f1662d",
   "metadata": {},
   "source": [
    "5. Some of the number values are stored as strings, when they should be stored as numbers."
   ]
  },
  {
   "attachments": {},
   "cell_type": "markdown",
   "id": "c46df2df",
   "metadata": {},
   "source": [
    "Use `update_many` to convert `latitude` and `longitude` to decimal numbers."
   ]
  },
  {
   "cell_type": "code",
   "execution_count": 19,
   "id": "b873eb78",
   "metadata": {},
   "outputs": [
    {
     "name": "stdout",
     "output_type": "stream",
     "text": [
      "Coordinates updated successfully.\n"
     ]
    }
   ],
   "source": [
    "\n",
    "# Update documents in the collection to convert 'longitude' and 'latitude' fields to doubles\n",
    "establishments.update_many(\n",
    "    {\"geocode.longitude\": {\"$type\": \"string\"}, \"geocode.latitude\": {\"$type\": \"string\"}},\n",
    "    [{\"$set\": {\"geocode.longitude\": {\"$toDouble\": \"$geocode.longitude\"}, \"geocode.latitude\": {\"$toDouble\": \"$geocode.latitude\"}}}]\n",
    ")\n",
    "\n",
    "# Print a message indicating the update is complete\n",
    "print(\"Coordinates updated successfully.\")"
   ]
  },
  {
   "attachments": {},
   "cell_type": "markdown",
   "id": "142e319c",
   "metadata": {},
   "source": [
    "Use `update_many` to convert `RatingValue` to integer numbers."
   ]
  },
  {
   "cell_type": "code",
   "execution_count": 23,
   "id": "04430a5b",
   "metadata": {},
   "outputs": [
    {
     "data": {
      "text/plain": [
       "UpdateResult({'n': 0, 'nModified': 0, 'ok': 1.0, 'updatedExisting': False}, acknowledged=True)"
      ]
     },
     "execution_count": 23,
     "metadata": {},
     "output_type": "execute_result"
    }
   ],
   "source": [
    "# Set non 1-5 Rating Values to Null\n",
    "non_ratings = [\"AwaitingInspection\", \"Awaiting Inspection\", \"AwaitingPublication\", \"Pass\", \"Exempt\"]\n",
    "establishments.update_many({\"RatingValue\": {\"$in\": non_ratings}}, [ {'$set':{ \"RatingValue\" : None}} ])"
   ]
  },
  {
   "cell_type": "code",
   "execution_count": 21,
   "id": "92524ccc",
   "metadata": {},
   "outputs": [
    {
     "data": {
      "text/plain": [
       "UpdateResult({'n': 38786, 'nModified': 34694, 'ok': 1.0, 'updatedExisting': True}, acknowledged=True)"
      ]
     },
     "execution_count": 21,
     "metadata": {},
     "output_type": "execute_result"
    }
   ],
   "source": [
    "# Change the data type from String to Integer for RatingValue\n",
    "# Convert RatingValue to integer numbers, handling non-numeric values\n",
    "collection.update_many({}, [\n",
    "    {\"$set\": {\n",
    "        \"RatingValue\": {\n",
    "            \"$cond\": {\n",
    "                \"if\": {\"$eq\": [{\"$type\": \"$RatingValue\"}, \"string\"]},\n",
    "                \"then\": {\n",
    "                    \"$cond\": {\n",
    "                        \"if\": {\"$regexMatch\": {\"input\": \"$RatingValue\", \"regex\": \"^[0-9]+$\"}},\n",
    "                        \"then\": {\"$toInt\": \"$RatingValue\"},\n",
    "                        \"else\": None\n",
    "                    }\n",
    "                },\n",
    "                \"else\": \"$RatingValue\"\n",
    "            }\n",
    "        }\n",
    "    }}\n",
    "])"
   ]
  },
  {
   "cell_type": "code",
   "execution_count": 22,
   "id": "4b836ac1",
   "metadata": {},
   "outputs": [
    {
     "name": "stdout",
     "output_type": "stream",
     "text": [
      "Data type of latitude: <class 'float'>\n",
      "Data type of longitude: <class 'float'>\n",
      "Data type of rating value: <class 'int'>\n"
     ]
    }
   ],
   "source": [
    "# Check that the coordinates and rating value are now numbers\n",
    "# Retrieve a document from the collection\n",
    "document = collection.find_one()\n",
    "\n",
    "if document:\n",
    "    if 'geocode' in document:\n",
    "        latitude = document['geocode'].get('latitude')\n",
    "        longitude = document['geocode'].get('longitude')\n",
    "        print(\"Data type of latitude:\", type(latitude))\n",
    "        print(\"Data type of longitude:\", type(longitude))\n",
    "    else:\n",
    "        print(\"'geocode' field not found in the document.\")\n",
    "\n",
    "    rating_value = document.get('RatingValue')\n",
    "    print(\"Data type of rating value:\", type(rating_value))\n",
    "else:\n",
    "    print(\"No documents found in the collection.\")\n"
   ]
  }
 ],
 "metadata": {
  "kernelspec": {
   "display_name": "Python 3 (ipykernel)",
   "language": "python",
   "name": "python3"
  },
  "language_info": {
   "codemirror_mode": {
    "name": "ipython",
    "version": 3
   },
   "file_extension": ".py",
   "mimetype": "text/x-python",
   "name": "python",
   "nbconvert_exporter": "python",
   "pygments_lexer": "ipython3",
   "version": "3.11.7"
  }
 },
 "nbformat": 4,
 "nbformat_minor": 5
}
